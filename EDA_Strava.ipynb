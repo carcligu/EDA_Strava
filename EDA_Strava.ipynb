{
 "cells": [
  {
   "cell_type": "code",
   "execution_count": 1,
   "metadata": {},
   "outputs": [
    {
     "name": "stderr",
     "output_type": "stream",
     "text": [
      "/Users/carloscliment/opt/anaconda3/lib/python3.7/site-packages/statsmodels/tools/_testing.py:19: FutureWarning: pandas.util.testing is deprecated. Use the functions in the public API at pandas.testing instead.\n",
      "  import pandas.util.testing as tm\n"
     ]
    }
   ],
   "source": [
    "import pandas as pd\n",
    "import matplotlib.pyplot as plt\n",
    "import numpy as np\n",
    "import seaborn as sns\n",
    "import datetime\n",
    "import os\n",
    "\n",
    "pd.set_option('max.columns', None)\n",
    "sns.set_style(\"whitegrid\")"
   ]
  },
  {
   "cell_type": "code",
   "execution_count": 2,
   "metadata": {},
   "outputs": [
    {
     "data": {
      "text/plain": [
       "'/Users/carloscliment/Documents/GitHub/EDA_Strava/Figures/'"
      ]
     },
     "execution_count": 2,
     "metadata": {},
     "output_type": "execute_result"
    }
   ],
   "source": [
    "FIGURES_PATH = os.getcwd() + '/Figures/'\n",
    "FIGURES_PATH"
   ]
  },
  {
   "cell_type": "markdown",
   "metadata": {},
   "source": [
    "This data has been generated with the .py scripts in the repository. It consist on my own personal data on Strava. The aim of this analysis is to get some insights about my self and to study the impact of high effort activities on kudos. As any other social media, Strava has kudos --> likes. Qustions I will try to solve: \n",
    "\n",
    "* Which are my prefered activies?\n",
    "* Which activity I spent more time on?\n",
    "* Which activity type requires more effort?\n",
    "* Evolution over time of my shape?\n",
    "* Does the effort impacts likes?\n",
    "* Does posting photos on the activity impacts likes?"
   ]
  },
  {
   "cell_type": "code",
   "execution_count": 3,
   "metadata": {},
   "outputs": [
    {
     "data": {
      "text/html": [
       "<div>\n",
       "<style scoped>\n",
       "    .dataframe tbody tr th:only-of-type {\n",
       "        vertical-align: middle;\n",
       "    }\n",
       "\n",
       "    .dataframe tbody tr th {\n",
       "        vertical-align: top;\n",
       "    }\n",
       "\n",
       "    .dataframe thead th {\n",
       "        text-align: right;\n",
       "    }\n",
       "</style>\n",
       "<table border=\"1\" class=\"dataframe\">\n",
       "  <thead>\n",
       "    <tr style=\"text-align: right;\">\n",
       "      <th></th>\n",
       "      <th>id</th>\n",
       "      <th>name</th>\n",
       "      <th>distance</th>\n",
       "      <th>moving_time</th>\n",
       "      <th>elapsed_time</th>\n",
       "      <th>total_elevation_gain</th>\n",
       "      <th>type</th>\n",
       "      <th>start_date_local</th>\n",
       "      <th>location_country</th>\n",
       "      <th>achievement_count</th>\n",
       "      <th>kudos_count</th>\n",
       "      <th>comment_count</th>\n",
       "      <th>athlete_count</th>\n",
       "      <th>photo_count</th>\n",
       "      <th>average_speed</th>\n",
       "      <th>max_speed</th>\n",
       "      <th>average_cadence</th>\n",
       "      <th>has_heartrate</th>\n",
       "      <th>average_heartrate</th>\n",
       "      <th>max_heartrate</th>\n",
       "      <th>elev_high</th>\n",
       "      <th>elev_low</th>\n",
       "      <th>pr_count</th>\n",
       "      <th>total_photo_count</th>\n",
       "      <th>suffer_score</th>\n",
       "    </tr>\n",
       "  </thead>\n",
       "  <tbody>\n",
       "    <tr>\n",
       "      <th>0</th>\n",
       "      <td>4301663060</td>\n",
       "      <td>Carrera a la hora del almuerzo</td>\n",
       "      <td>10005.3</td>\n",
       "      <td>3282</td>\n",
       "      <td>3406</td>\n",
       "      <td>50.0</td>\n",
       "      <td>Run</td>\n",
       "      <td>2020-11-07T12:21:19Z</td>\n",
       "      <td>España</td>\n",
       "      <td>6</td>\n",
       "      <td>8</td>\n",
       "      <td>0</td>\n",
       "      <td>1</td>\n",
       "      <td>0</td>\n",
       "      <td>3.049</td>\n",
       "      <td>6.4</td>\n",
       "      <td>84.6</td>\n",
       "      <td>True</td>\n",
       "      <td>160.6</td>\n",
       "      <td>175.0</td>\n",
       "      <td>65.9</td>\n",
       "      <td>46.4</td>\n",
       "      <td>2</td>\n",
       "      <td>0</td>\n",
       "      <td>112.0</td>\n",
       "    </tr>\n",
       "    <tr>\n",
       "      <th>1</th>\n",
       "      <td>4290831802</td>\n",
       "      <td>Carrera de tarde</td>\n",
       "      <td>8049.3</td>\n",
       "      <td>2694</td>\n",
       "      <td>2766</td>\n",
       "      <td>32.4</td>\n",
       "      <td>Run</td>\n",
       "      <td>2020-11-05T17:31:39Z</td>\n",
       "      <td>España</td>\n",
       "      <td>5</td>\n",
       "      <td>15</td>\n",
       "      <td>0</td>\n",
       "      <td>1</td>\n",
       "      <td>0</td>\n",
       "      <td>2.988</td>\n",
       "      <td>4.6</td>\n",
       "      <td>84.3</td>\n",
       "      <td>True</td>\n",
       "      <td>160.3</td>\n",
       "      <td>183.0</td>\n",
       "      <td>57.2</td>\n",
       "      <td>48.0</td>\n",
       "      <td>0</td>\n",
       "      <td>0</td>\n",
       "      <td>88.0</td>\n",
       "    </tr>\n",
       "    <tr>\n",
       "      <th>2</th>\n",
       "      <td>4286230449</td>\n",
       "      <td>Carrera de tarde</td>\n",
       "      <td>8006.6</td>\n",
       "      <td>2502</td>\n",
       "      <td>2692</td>\n",
       "      <td>30.7</td>\n",
       "      <td>Run</td>\n",
       "      <td>2020-11-04T17:44:54Z</td>\n",
       "      <td>España</td>\n",
       "      <td>2</td>\n",
       "      <td>9</td>\n",
       "      <td>0</td>\n",
       "      <td>1</td>\n",
       "      <td>0</td>\n",
       "      <td>3.200</td>\n",
       "      <td>4.0</td>\n",
       "      <td>84.1</td>\n",
       "      <td>True</td>\n",
       "      <td>147.2</td>\n",
       "      <td>178.0</td>\n",
       "      <td>57.2</td>\n",
       "      <td>48.0</td>\n",
       "      <td>2</td>\n",
       "      <td>0</td>\n",
       "      <td>45.0</td>\n",
       "    </tr>\n",
       "    <tr>\n",
       "      <th>3</th>\n",
       "      <td>4274546454</td>\n",
       "      <td>Natación de mañana</td>\n",
       "      <td>1100.0</td>\n",
       "      <td>1724</td>\n",
       "      <td>1746</td>\n",
       "      <td>0.0</td>\n",
       "      <td>Swim</td>\n",
       "      <td>2020-11-02T07:43:24Z</td>\n",
       "      <td>España</td>\n",
       "      <td>0</td>\n",
       "      <td>5</td>\n",
       "      <td>0</td>\n",
       "      <td>1</td>\n",
       "      <td>0</td>\n",
       "      <td>0.638</td>\n",
       "      <td>1.2</td>\n",
       "      <td>22.6</td>\n",
       "      <td>False</td>\n",
       "      <td>NaN</td>\n",
       "      <td>NaN</td>\n",
       "      <td>NaN</td>\n",
       "      <td>NaN</td>\n",
       "      <td>0</td>\n",
       "      <td>0</td>\n",
       "      <td>NaN</td>\n",
       "    </tr>\n",
       "    <tr>\n",
       "      <th>4</th>\n",
       "      <td>4270086678</td>\n",
       "      <td>Natación de mañana</td>\n",
       "      <td>550.0</td>\n",
       "      <td>710</td>\n",
       "      <td>2028</td>\n",
       "      <td>0.0</td>\n",
       "      <td>Swim</td>\n",
       "      <td>2020-11-01T10:25:54Z</td>\n",
       "      <td>España</td>\n",
       "      <td>0</td>\n",
       "      <td>0</td>\n",
       "      <td>0</td>\n",
       "      <td>1</td>\n",
       "      <td>0</td>\n",
       "      <td>0.775</td>\n",
       "      <td>6.0</td>\n",
       "      <td>23.8</td>\n",
       "      <td>False</td>\n",
       "      <td>NaN</td>\n",
       "      <td>NaN</td>\n",
       "      <td>NaN</td>\n",
       "      <td>NaN</td>\n",
       "      <td>0</td>\n",
       "      <td>0</td>\n",
       "      <td>NaN</td>\n",
       "    </tr>\n",
       "  </tbody>\n",
       "</table>\n",
       "</div>"
      ],
      "text/plain": [
       "           id                            name  distance  moving_time  \\\n",
       "0  4301663060  Carrera a la hora del almuerzo   10005.3         3282   \n",
       "1  4290831802                Carrera de tarde    8049.3         2694   \n",
       "2  4286230449                Carrera de tarde    8006.6         2502   \n",
       "3  4274546454              Natación de mañana    1100.0         1724   \n",
       "4  4270086678              Natación de mañana     550.0          710   \n",
       "\n",
       "   elapsed_time  total_elevation_gain  type      start_date_local  \\\n",
       "0          3406                  50.0   Run  2020-11-07T12:21:19Z   \n",
       "1          2766                  32.4   Run  2020-11-05T17:31:39Z   \n",
       "2          2692                  30.7   Run  2020-11-04T17:44:54Z   \n",
       "3          1746                   0.0  Swim  2020-11-02T07:43:24Z   \n",
       "4          2028                   0.0  Swim  2020-11-01T10:25:54Z   \n",
       "\n",
       "  location_country  achievement_count  kudos_count  comment_count  \\\n",
       "0           España                  6            8              0   \n",
       "1           España                  5           15              0   \n",
       "2           España                  2            9              0   \n",
       "3           España                  0            5              0   \n",
       "4           España                  0            0              0   \n",
       "\n",
       "   athlete_count  photo_count  average_speed  max_speed  average_cadence  \\\n",
       "0              1            0          3.049        6.4             84.6   \n",
       "1              1            0          2.988        4.6             84.3   \n",
       "2              1            0          3.200        4.0             84.1   \n",
       "3              1            0          0.638        1.2             22.6   \n",
       "4              1            0          0.775        6.0             23.8   \n",
       "\n",
       "   has_heartrate  average_heartrate  max_heartrate  elev_high  elev_low  \\\n",
       "0           True              160.6          175.0       65.9      46.4   \n",
       "1           True              160.3          183.0       57.2      48.0   \n",
       "2           True              147.2          178.0       57.2      48.0   \n",
       "3          False                NaN            NaN        NaN       NaN   \n",
       "4          False                NaN            NaN        NaN       NaN   \n",
       "\n",
       "   pr_count  total_photo_count  suffer_score  \n",
       "0         2                  0         112.0  \n",
       "1         0                  0          88.0  \n",
       "2         2                  0          45.0  \n",
       "3         0                  0           NaN  \n",
       "4         0                  0           NaN  "
      ]
     },
     "execution_count": 3,
     "metadata": {},
     "output_type": "execute_result"
    }
   ],
   "source": [
    "df = pd.read_csv(\"strava_activities_selected_fields.csv\").drop('Unnamed: 0', axis=1)\n",
    "df.head()"
   ]
  },
  {
   "cell_type": "code",
   "execution_count": 4,
   "metadata": {},
   "outputs": [
    {
     "data": {
      "text/html": [
       "<div>\n",
       "<style scoped>\n",
       "    .dataframe tbody tr th:only-of-type {\n",
       "        vertical-align: middle;\n",
       "    }\n",
       "\n",
       "    .dataframe tbody tr th {\n",
       "        vertical-align: top;\n",
       "    }\n",
       "\n",
       "    .dataframe thead th {\n",
       "        text-align: right;\n",
       "    }\n",
       "</style>\n",
       "<table border=\"1\" class=\"dataframe\">\n",
       "  <thead>\n",
       "    <tr style=\"text-align: right;\">\n",
       "      <th></th>\n",
       "      <th>id</th>\n",
       "      <th>name</th>\n",
       "      <th>distance</th>\n",
       "      <th>moving_time</th>\n",
       "      <th>elapsed_time</th>\n",
       "      <th>total_elevation_gain</th>\n",
       "      <th>type</th>\n",
       "      <th>start_date_local</th>\n",
       "      <th>location_country</th>\n",
       "      <th>achievement_count</th>\n",
       "      <th>kudos_count</th>\n",
       "      <th>comment_count</th>\n",
       "      <th>athlete_count</th>\n",
       "      <th>photo_count</th>\n",
       "      <th>average_speed</th>\n",
       "      <th>max_speed</th>\n",
       "      <th>average_cadence</th>\n",
       "      <th>has_heartrate</th>\n",
       "      <th>average_heartrate</th>\n",
       "      <th>max_heartrate</th>\n",
       "      <th>elev_high</th>\n",
       "      <th>elev_low</th>\n",
       "      <th>pr_count</th>\n",
       "      <th>total_photo_count</th>\n",
       "      <th>suffer_score</th>\n",
       "    </tr>\n",
       "  </thead>\n",
       "  <tbody>\n",
       "    <tr>\n",
       "      <th>354</th>\n",
       "      <td>814702011</td>\n",
       "      <td>Carrera de tarde</td>\n",
       "      <td>5536.5</td>\n",
       "      <td>1747</td>\n",
       "      <td>2432</td>\n",
       "      <td>165.8</td>\n",
       "      <td>Run</td>\n",
       "      <td>2016-12-29T13:24:03Z</td>\n",
       "      <td>NaN</td>\n",
       "      <td>5</td>\n",
       "      <td>0</td>\n",
       "      <td>0</td>\n",
       "      <td>1</td>\n",
       "      <td>0</td>\n",
       "      <td>3.169</td>\n",
       "      <td>11.9</td>\n",
       "      <td>NaN</td>\n",
       "      <td>False</td>\n",
       "      <td>NaN</td>\n",
       "      <td>NaN</td>\n",
       "      <td>537.0</td>\n",
       "      <td>415.9</td>\n",
       "      <td>2</td>\n",
       "      <td>0</td>\n",
       "      <td>NaN</td>\n",
       "    </tr>\n",
       "    <tr>\n",
       "      <th>355</th>\n",
       "      <td>689339708</td>\n",
       "      <td>Ayunas</td>\n",
       "      <td>5652.3</td>\n",
       "      <td>1769</td>\n",
       "      <td>1769</td>\n",
       "      <td>0.0</td>\n",
       "      <td>Run</td>\n",
       "      <td>2016-08-26T09:00:31Z</td>\n",
       "      <td>NaN</td>\n",
       "      <td>3</td>\n",
       "      <td>0</td>\n",
       "      <td>0</td>\n",
       "      <td>1</td>\n",
       "      <td>0</td>\n",
       "      <td>3.195</td>\n",
       "      <td>4.3</td>\n",
       "      <td>NaN</td>\n",
       "      <td>False</td>\n",
       "      <td>NaN</td>\n",
       "      <td>NaN</td>\n",
       "      <td>14.1</td>\n",
       "      <td>3.8</td>\n",
       "      <td>0</td>\n",
       "      <td>0</td>\n",
       "      <td>NaN</td>\n",
       "    </tr>\n",
       "    <tr>\n",
       "      <th>356</th>\n",
       "      <td>679316688</td>\n",
       "      <td>Entrenamiento 3 ( velocidad )</td>\n",
       "      <td>5053.6</td>\n",
       "      <td>1409</td>\n",
       "      <td>1414</td>\n",
       "      <td>10.2</td>\n",
       "      <td>Run</td>\n",
       "      <td>2016-08-17T16:15:37Z</td>\n",
       "      <td>NaN</td>\n",
       "      <td>6</td>\n",
       "      <td>0</td>\n",
       "      <td>0</td>\n",
       "      <td>1</td>\n",
       "      <td>0</td>\n",
       "      <td>3.587</td>\n",
       "      <td>5.0</td>\n",
       "      <td>NaN</td>\n",
       "      <td>False</td>\n",
       "      <td>NaN</td>\n",
       "      <td>NaN</td>\n",
       "      <td>220.5</td>\n",
       "      <td>210.0</td>\n",
       "      <td>2</td>\n",
       "      <td>0</td>\n",
       "      <td>NaN</td>\n",
       "    </tr>\n",
       "    <tr>\n",
       "      <th>357</th>\n",
       "      <td>677222089</td>\n",
       "      <td>Entreno 2</td>\n",
       "      <td>13398.7</td>\n",
       "      <td>4415</td>\n",
       "      <td>4429</td>\n",
       "      <td>64.6</td>\n",
       "      <td>Run</td>\n",
       "      <td>2016-08-15T19:28:31Z</td>\n",
       "      <td>NaN</td>\n",
       "      <td>7</td>\n",
       "      <td>0</td>\n",
       "      <td>0</td>\n",
       "      <td>1</td>\n",
       "      <td>0</td>\n",
       "      <td>3.035</td>\n",
       "      <td>11.0</td>\n",
       "      <td>NaN</td>\n",
       "      <td>False</td>\n",
       "      <td>NaN</td>\n",
       "      <td>NaN</td>\n",
       "      <td>239.9</td>\n",
       "      <td>209.5</td>\n",
       "      <td>2</td>\n",
       "      <td>0</td>\n",
       "      <td>NaN</td>\n",
       "    </tr>\n",
       "    <tr>\n",
       "      <th>358</th>\n",
       "      <td>671305093</td>\n",
       "      <td>Entreno 1</td>\n",
       "      <td>10093.8</td>\n",
       "      <td>3268</td>\n",
       "      <td>3304</td>\n",
       "      <td>55.8</td>\n",
       "      <td>Run</td>\n",
       "      <td>2016-08-10T17:01:59Z</td>\n",
       "      <td>NaN</td>\n",
       "      <td>0</td>\n",
       "      <td>0</td>\n",
       "      <td>0</td>\n",
       "      <td>1</td>\n",
       "      <td>0</td>\n",
       "      <td>3.089</td>\n",
       "      <td>13.0</td>\n",
       "      <td>NaN</td>\n",
       "      <td>False</td>\n",
       "      <td>NaN</td>\n",
       "      <td>NaN</td>\n",
       "      <td>241.1</td>\n",
       "      <td>209.4</td>\n",
       "      <td>0</td>\n",
       "      <td>0</td>\n",
       "      <td>NaN</td>\n",
       "    </tr>\n",
       "  </tbody>\n",
       "</table>\n",
       "</div>"
      ],
      "text/plain": [
       "            id                           name  distance  moving_time  \\\n",
       "354  814702011               Carrera de tarde    5536.5         1747   \n",
       "355  689339708                         Ayunas    5652.3         1769   \n",
       "356  679316688  Entrenamiento 3 ( velocidad )    5053.6         1409   \n",
       "357  677222089                      Entreno 2   13398.7         4415   \n",
       "358  671305093                      Entreno 1   10093.8         3268   \n",
       "\n",
       "     elapsed_time  total_elevation_gain type      start_date_local  \\\n",
       "354          2432                 165.8  Run  2016-12-29T13:24:03Z   \n",
       "355          1769                   0.0  Run  2016-08-26T09:00:31Z   \n",
       "356          1414                  10.2  Run  2016-08-17T16:15:37Z   \n",
       "357          4429                  64.6  Run  2016-08-15T19:28:31Z   \n",
       "358          3304                  55.8  Run  2016-08-10T17:01:59Z   \n",
       "\n",
       "    location_country  achievement_count  kudos_count  comment_count  \\\n",
       "354              NaN                  5            0              0   \n",
       "355              NaN                  3            0              0   \n",
       "356              NaN                  6            0              0   \n",
       "357              NaN                  7            0              0   \n",
       "358              NaN                  0            0              0   \n",
       "\n",
       "     athlete_count  photo_count  average_speed  max_speed  average_cadence  \\\n",
       "354              1            0          3.169       11.9              NaN   \n",
       "355              1            0          3.195        4.3              NaN   \n",
       "356              1            0          3.587        5.0              NaN   \n",
       "357              1            0          3.035       11.0              NaN   \n",
       "358              1            0          3.089       13.0              NaN   \n",
       "\n",
       "     has_heartrate  average_heartrate  max_heartrate  elev_high  elev_low  \\\n",
       "354          False                NaN            NaN      537.0     415.9   \n",
       "355          False                NaN            NaN       14.1       3.8   \n",
       "356          False                NaN            NaN      220.5     210.0   \n",
       "357          False                NaN            NaN      239.9     209.5   \n",
       "358          False                NaN            NaN      241.1     209.4   \n",
       "\n",
       "     pr_count  total_photo_count  suffer_score  \n",
       "354         2                  0           NaN  \n",
       "355         0                  0           NaN  \n",
       "356         2                  0           NaN  \n",
       "357         2                  0           NaN  \n",
       "358         0                  0           NaN  "
      ]
     },
     "execution_count": 4,
     "metadata": {},
     "output_type": "execute_result"
    }
   ],
   "source": [
    "df.tail()"
   ]
  },
  {
   "cell_type": "markdown",
   "metadata": {},
   "source": [
    "With this initial exploration we can see guess the units of the measures: \n",
    "\n",
    "* distance: meters\n",
    "* moving_time: seconds\n",
    "* elapsed_time: seconds\n",
    "* total_elevation_gain: meters\n",
    "* average_speed: meters/second (basically, distance/moving_time)\n",
    "* max_speed: meters/second\n",
    "* average_cadence: ?\n",
    "* average_heartrate: ppm\n",
    "* max_heartrate: ppm\n",
    "* elev_high: meters\n",
    "* elev_low: meters\n",
    "* suffer_score: relative measure calculated by strava"
   ]
  },
  {
   "cell_type": "code",
   "execution_count": 5,
   "metadata": {},
   "outputs": [
    {
     "name": "stdout",
     "output_type": "stream",
     "text": [
      "<class 'pandas.core.frame.DataFrame'>\n",
      "RangeIndex: 359 entries, 0 to 358\n",
      "Data columns (total 25 columns):\n",
      " #   Column                Non-Null Count  Dtype  \n",
      "---  ------                --------------  -----  \n",
      " 0   id                    359 non-null    int64  \n",
      " 1   name                  359 non-null    object \n",
      " 2   distance              359 non-null    float64\n",
      " 3   moving_time           359 non-null    int64  \n",
      " 4   elapsed_time          359 non-null    int64  \n",
      " 5   total_elevation_gain  359 non-null    float64\n",
      " 6   type                  359 non-null    object \n",
      " 7   start_date_local      359 non-null    object \n",
      " 8   location_country      292 non-null    object \n",
      " 9   achievement_count     359 non-null    int64  \n",
      " 10  kudos_count           359 non-null    int64  \n",
      " 11  comment_count         359 non-null    int64  \n",
      " 12  athlete_count         359 non-null    int64  \n",
      " 13  photo_count           359 non-null    int64  \n",
      " 14  average_speed         359 non-null    float64\n",
      " 15  max_speed             359 non-null    float64\n",
      " 16  average_cadence       188 non-null    float64\n",
      " 17  has_heartrate         359 non-null    bool   \n",
      " 18  average_heartrate     252 non-null    float64\n",
      " 19  max_heartrate         252 non-null    float64\n",
      " 20  elev_high             288 non-null    float64\n",
      " 21  elev_low              288 non-null    float64\n",
      " 22  pr_count              359 non-null    int64  \n",
      " 23  total_photo_count     359 non-null    int64  \n",
      " 24  suffer_score          253 non-null    float64\n",
      "dtypes: bool(1), float64(10), int64(10), object(4)\n",
      "memory usage: 67.8+ KB\n"
     ]
    }
   ],
   "source": [
    "df.info()"
   ]
  },
  {
   "cell_type": "markdown",
   "metadata": {
    "slideshow": {
     "slide_type": "slide"
    }
   },
   "source": [
    "It seems that the column ***start_date_local*** is considered as object. Let's modified it to timestamp: "
   ]
  },
  {
   "cell_type": "code",
   "execution_count": 6,
   "metadata": {},
   "outputs": [
    {
     "data": {
      "text/plain": [
       "0      2020-11-07T12:21:19Z\n",
       "1      2020-11-05T17:31:39Z\n",
       "2      2020-11-04T17:44:54Z\n",
       "3      2020-11-02T07:43:24Z\n",
       "4      2020-11-01T10:25:54Z\n",
       "               ...         \n",
       "354    2016-12-29T13:24:03Z\n",
       "355    2016-08-26T09:00:31Z\n",
       "356    2016-08-17T16:15:37Z\n",
       "357    2016-08-15T19:28:31Z\n",
       "358    2016-08-10T17:01:59Z\n",
       "Name: start_date_local, Length: 359, dtype: object"
      ]
     },
     "execution_count": 6,
     "metadata": {},
     "output_type": "execute_result"
    }
   ],
   "source": [
    "df['start_date_local']"
   ]
  },
  {
   "cell_type": "code",
   "execution_count": 7,
   "metadata": {},
   "outputs": [
    {
     "data": {
      "text/plain": [
       "0     2020-11-07 12:21:19\n",
       "1     2020-11-05 17:31:39\n",
       "2     2020-11-04 17:44:54\n",
       "3     2020-11-02 07:43:24\n",
       "4     2020-11-01 10:25:54\n",
       "              ...        \n",
       "354   2016-12-29 13:24:03\n",
       "355   2016-08-26 09:00:31\n",
       "356   2016-08-17 16:15:37\n",
       "357   2016-08-15 19:28:31\n",
       "358   2016-08-10 17:01:59\n",
       "Name: start_date_local, Length: 359, dtype: datetime64[ns]"
      ]
     },
     "execution_count": 7,
     "metadata": {},
     "output_type": "execute_result"
    }
   ],
   "source": [
    "df['start_date_local'] = pd.to_datetime(df['start_date_local'], format='%Y-%m-%dT%H:%M:%SZ')\n",
    "df['start_date_local']"
   ]
  },
  {
   "cell_type": "code",
   "execution_count": 8,
   "metadata": {},
   "outputs": [
    {
     "data": {
      "text/html": [
       "<div>\n",
       "<style scoped>\n",
       "    .dataframe tbody tr th:only-of-type {\n",
       "        vertical-align: middle;\n",
       "    }\n",
       "\n",
       "    .dataframe tbody tr th {\n",
       "        vertical-align: top;\n",
       "    }\n",
       "\n",
       "    .dataframe thead th {\n",
       "        text-align: right;\n",
       "    }\n",
       "</style>\n",
       "<table border=\"1\" class=\"dataframe\">\n",
       "  <thead>\n",
       "    <tr style=\"text-align: right;\">\n",
       "      <th></th>\n",
       "      <th>id</th>\n",
       "      <th>distance</th>\n",
       "      <th>moving_time</th>\n",
       "      <th>elapsed_time</th>\n",
       "      <th>total_elevation_gain</th>\n",
       "      <th>achievement_count</th>\n",
       "      <th>kudos_count</th>\n",
       "      <th>comment_count</th>\n",
       "      <th>athlete_count</th>\n",
       "      <th>photo_count</th>\n",
       "      <th>average_speed</th>\n",
       "      <th>max_speed</th>\n",
       "      <th>average_cadence</th>\n",
       "      <th>average_heartrate</th>\n",
       "      <th>max_heartrate</th>\n",
       "      <th>elev_high</th>\n",
       "      <th>elev_low</th>\n",
       "      <th>pr_count</th>\n",
       "      <th>total_photo_count</th>\n",
       "      <th>suffer_score</th>\n",
       "    </tr>\n",
       "  </thead>\n",
       "  <tbody>\n",
       "    <tr>\n",
       "      <th>count</th>\n",
       "      <td>3.590000e+02</td>\n",
       "      <td>359.000000</td>\n",
       "      <td>359.000000</td>\n",
       "      <td>359.000000</td>\n",
       "      <td>359.000000</td>\n",
       "      <td>359.000000</td>\n",
       "      <td>359.00000</td>\n",
       "      <td>359.000000</td>\n",
       "      <td>359.000000</td>\n",
       "      <td>359.0</td>\n",
       "      <td>359.000000</td>\n",
       "      <td>359.000000</td>\n",
       "      <td>188.000000</td>\n",
       "      <td>252.000000</td>\n",
       "      <td>252.000000</td>\n",
       "      <td>288.000000</td>\n",
       "      <td>288.000000</td>\n",
       "      <td>359.000000</td>\n",
       "      <td>359.000000</td>\n",
       "      <td>253.000000</td>\n",
       "    </tr>\n",
       "    <tr>\n",
       "      <th>mean</th>\n",
       "      <td>2.536178e+09</td>\n",
       "      <td>11687.279387</td>\n",
       "      <td>4226.813370</td>\n",
       "      <td>4634.247911</td>\n",
       "      <td>157.600279</td>\n",
       "      <td>2.863510</td>\n",
       "      <td>3.64624</td>\n",
       "      <td>0.259053</td>\n",
       "      <td>2.857939</td>\n",
       "      <td>0.0</td>\n",
       "      <td>2.903117</td>\n",
       "      <td>5.455989</td>\n",
       "      <td>79.845745</td>\n",
       "      <td>140.503571</td>\n",
       "      <td>166.880952</td>\n",
       "      <td>260.478472</td>\n",
       "      <td>160.419792</td>\n",
       "      <td>1.175487</td>\n",
       "      <td>0.128134</td>\n",
       "      <td>80.252964</td>\n",
       "    </tr>\n",
       "    <tr>\n",
       "      <th>std</th>\n",
       "      <td>7.457313e+08</td>\n",
       "      <td>12233.955148</td>\n",
       "      <td>7610.218603</td>\n",
       "      <td>7936.337982</td>\n",
       "      <td>235.271191</td>\n",
       "      <td>5.814716</td>\n",
       "      <td>2.93889</td>\n",
       "      <td>1.139573</td>\n",
       "      <td>19.116648</td>\n",
       "      <td>0.0</td>\n",
       "      <td>1.444620</td>\n",
       "      <td>3.901799</td>\n",
       "      <td>11.719965</td>\n",
       "      <td>26.075511</td>\n",
       "      <td>24.119592</td>\n",
       "      <td>338.522358</td>\n",
       "      <td>212.807219</td>\n",
       "      <td>3.048007</td>\n",
       "      <td>0.528796</td>\n",
       "      <td>85.161607</td>\n",
       "    </tr>\n",
       "    <tr>\n",
       "      <th>min</th>\n",
       "      <td>6.713051e+08</td>\n",
       "      <td>0.000000</td>\n",
       "      <td>441.000000</td>\n",
       "      <td>462.000000</td>\n",
       "      <td>0.000000</td>\n",
       "      <td>0.000000</td>\n",
       "      <td>0.00000</td>\n",
       "      <td>0.000000</td>\n",
       "      <td>1.000000</td>\n",
       "      <td>0.0</td>\n",
       "      <td>0.000000</td>\n",
       "      <td>0.000000</td>\n",
       "      <td>22.600000</td>\n",
       "      <td>77.000000</td>\n",
       "      <td>95.000000</td>\n",
       "      <td>1.600000</td>\n",
       "      <td>-2.000000</td>\n",
       "      <td>0.000000</td>\n",
       "      <td>0.000000</td>\n",
       "      <td>1.000000</td>\n",
       "    </tr>\n",
       "    <tr>\n",
       "      <th>25%</th>\n",
       "      <td>2.087646e+09</td>\n",
       "      <td>5074.400000</td>\n",
       "      <td>2168.000000</td>\n",
       "      <td>2346.000000</td>\n",
       "      <td>0.000000</td>\n",
       "      <td>0.000000</td>\n",
       "      <td>1.00000</td>\n",
       "      <td>0.000000</td>\n",
       "      <td>1.000000</td>\n",
       "      <td>0.0</td>\n",
       "      <td>2.838500</td>\n",
       "      <td>3.750000</td>\n",
       "      <td>82.000000</td>\n",
       "      <td>126.775000</td>\n",
       "      <td>156.000000</td>\n",
       "      <td>28.600000</td>\n",
       "      <td>4.000000</td>\n",
       "      <td>0.000000</td>\n",
       "      <td>0.000000</td>\n",
       "      <td>21.000000</td>\n",
       "    </tr>\n",
       "    <tr>\n",
       "      <th>50%</th>\n",
       "      <td>2.417409e+09</td>\n",
       "      <td>8972.500000</td>\n",
       "      <td>3023.000000</td>\n",
       "      <td>3137.000000</td>\n",
       "      <td>73.600000</td>\n",
       "      <td>0.000000</td>\n",
       "      <td>3.00000</td>\n",
       "      <td>0.000000</td>\n",
       "      <td>1.000000</td>\n",
       "      <td>0.0</td>\n",
       "      <td>3.174000</td>\n",
       "      <td>4.700000</td>\n",
       "      <td>83.000000</td>\n",
       "      <td>147.400000</td>\n",
       "      <td>173.000000</td>\n",
       "      <td>45.100000</td>\n",
       "      <td>18.350000</td>\n",
       "      <td>0.000000</td>\n",
       "      <td>0.000000</td>\n",
       "      <td>59.000000</td>\n",
       "    </tr>\n",
       "    <tr>\n",
       "      <th>75%</th>\n",
       "      <td>2.864874e+09</td>\n",
       "      <td>13005.750000</td>\n",
       "      <td>4102.000000</td>\n",
       "      <td>4477.000000</td>\n",
       "      <td>186.350000</td>\n",
       "      <td>3.000000</td>\n",
       "      <td>6.00000</td>\n",
       "      <td>0.000000</td>\n",
       "      <td>1.000000</td>\n",
       "      <td>0.0</td>\n",
       "      <td>3.410000</td>\n",
       "      <td>6.400000</td>\n",
       "      <td>84.025000</td>\n",
       "      <td>159.350000</td>\n",
       "      <td>183.000000</td>\n",
       "      <td>470.900000</td>\n",
       "      <td>394.600000</td>\n",
       "      <td>1.000000</td>\n",
       "      <td>0.000000</td>\n",
       "      <td>108.000000</td>\n",
       "    </tr>\n",
       "    <tr>\n",
       "      <th>max</th>\n",
       "      <td>4.301663e+09</td>\n",
       "      <td>92237.000000</td>\n",
       "      <td>105357.000000</td>\n",
       "      <td>105357.000000</td>\n",
       "      <td>1728.000000</td>\n",
       "      <td>37.000000</td>\n",
       "      <td>16.00000</td>\n",
       "      <td>12.000000</td>\n",
       "      <td>264.000000</td>\n",
       "      <td>0.0</td>\n",
       "      <td>6.770000</td>\n",
       "      <td>17.800000</td>\n",
       "      <td>88.800000</td>\n",
       "      <td>190.700000</td>\n",
       "      <td>223.000000</td>\n",
       "      <td>1480.200000</td>\n",
       "      <td>1181.600000</td>\n",
       "      <td>27.000000</td>\n",
       "      <td>5.000000</td>\n",
       "      <td>598.000000</td>\n",
       "    </tr>\n",
       "  </tbody>\n",
       "</table>\n",
       "</div>"
      ],
      "text/plain": [
       "                 id      distance    moving_time   elapsed_time  \\\n",
       "count  3.590000e+02    359.000000     359.000000     359.000000   \n",
       "mean   2.536178e+09  11687.279387    4226.813370    4634.247911   \n",
       "std    7.457313e+08  12233.955148    7610.218603    7936.337982   \n",
       "min    6.713051e+08      0.000000     441.000000     462.000000   \n",
       "25%    2.087646e+09   5074.400000    2168.000000    2346.000000   \n",
       "50%    2.417409e+09   8972.500000    3023.000000    3137.000000   \n",
       "75%    2.864874e+09  13005.750000    4102.000000    4477.000000   \n",
       "max    4.301663e+09  92237.000000  105357.000000  105357.000000   \n",
       "\n",
       "       total_elevation_gain  achievement_count  kudos_count  comment_count  \\\n",
       "count            359.000000         359.000000    359.00000     359.000000   \n",
       "mean             157.600279           2.863510      3.64624       0.259053   \n",
       "std              235.271191           5.814716      2.93889       1.139573   \n",
       "min                0.000000           0.000000      0.00000       0.000000   \n",
       "25%                0.000000           0.000000      1.00000       0.000000   \n",
       "50%               73.600000           0.000000      3.00000       0.000000   \n",
       "75%              186.350000           3.000000      6.00000       0.000000   \n",
       "max             1728.000000          37.000000     16.00000      12.000000   \n",
       "\n",
       "       athlete_count  photo_count  average_speed   max_speed  average_cadence  \\\n",
       "count     359.000000        359.0     359.000000  359.000000       188.000000   \n",
       "mean        2.857939          0.0       2.903117    5.455989        79.845745   \n",
       "std        19.116648          0.0       1.444620    3.901799        11.719965   \n",
       "min         1.000000          0.0       0.000000    0.000000        22.600000   \n",
       "25%         1.000000          0.0       2.838500    3.750000        82.000000   \n",
       "50%         1.000000          0.0       3.174000    4.700000        83.000000   \n",
       "75%         1.000000          0.0       3.410000    6.400000        84.025000   \n",
       "max       264.000000          0.0       6.770000   17.800000        88.800000   \n",
       "\n",
       "       average_heartrate  max_heartrate    elev_high     elev_low    pr_count  \\\n",
       "count         252.000000     252.000000   288.000000   288.000000  359.000000   \n",
       "mean          140.503571     166.880952   260.478472   160.419792    1.175487   \n",
       "std            26.075511      24.119592   338.522358   212.807219    3.048007   \n",
       "min            77.000000      95.000000     1.600000    -2.000000    0.000000   \n",
       "25%           126.775000     156.000000    28.600000     4.000000    0.000000   \n",
       "50%           147.400000     173.000000    45.100000    18.350000    0.000000   \n",
       "75%           159.350000     183.000000   470.900000   394.600000    1.000000   \n",
       "max           190.700000     223.000000  1480.200000  1181.600000   27.000000   \n",
       "\n",
       "       total_photo_count  suffer_score  \n",
       "count         359.000000    253.000000  \n",
       "mean            0.128134     80.252964  \n",
       "std             0.528796     85.161607  \n",
       "min             0.000000      1.000000  \n",
       "25%             0.000000     21.000000  \n",
       "50%             0.000000     59.000000  \n",
       "75%             0.000000    108.000000  \n",
       "max             5.000000    598.000000  "
      ]
     },
     "execution_count": 8,
     "metadata": {},
     "output_type": "execute_result"
    }
   ],
   "source": [
    "df.describe()"
   ]
  },
  {
   "cell_type": "code",
   "execution_count": 9,
   "metadata": {},
   "outputs": [
    {
     "name": "stdout",
     "output_type": "stream",
     "text": [
      "2016-08-10 17:01:59 , 2020-11-07 12:21:19\n"
     ]
    }
   ],
   "source": [
    "#include time range\n",
    "import datetime as dt\n",
    "min_date = df['start_date_local'].min()\n",
    "max_date = df['start_date_local'].max()\n",
    "print(min_date, \",\", max_date)"
   ]
  },
  {
   "cell_type": "markdown",
   "metadata": {},
   "source": [
    "# Time spent on activities over time"
   ]
  },
  {
   "cell_type": "code",
   "execution_count": 10,
   "metadata": {
    "scrolled": true
   },
   "outputs": [
    {
     "data": {
      "image/png": "[encoded data removed]",
      "text/plain": [
       "<Figure size 720x360 with 1 Axes>"
      ]
     },
     "metadata": {
      "needs_background": "light"
     },
     "output_type": "display_data"
    }
   ],
   "source": [
    "def group_by_date(df):\n",
    "    df_by_date = df.set_index('start_date_local').groupby(pd.Grouper(freq=\"M\")).sum()[['moving_time']]\n",
    "    df_by_date['moving_time'] = df_by_date['moving_time'] / 3600\n",
    "    df_by_date.reset_index(inplace=True)\n",
    "    df_by_date['year-month'] = df_by_date['start_date_local'].apply(lambda x: str(x)[:7])\n",
    "    df_by_date = df_by_date.sort_values('start_date_local', ascending=True)\n",
    "    return df_by_date\n",
    "\n",
    "def plot_activities_over_time(df_by_date):\n",
    "    fig, ax = plt.subplots(figsize=(10,5))\n",
    "    sns.barplot(data=df_by_date, x='year-month', y='moving_time', color = 'red')\n",
    "    plt.xticks(fontsize=12,rotation=60)\n",
    "    fig.savefig(FIGURES_PATH + \"activities_over_time.png\")\n",
    "    plt.show()\n",
    "\n",
    "df_by_date = group_by_date(df)\n",
    "# I only want to plot the last 2 years\n",
    "plot_activities_over_time(df_by_date[df_by_date['start_date_local']>'2019-01-01'])\n"
   ]
  },
  {
   "cell_type": "markdown",
   "metadata": {},
   "source": [
    "As far I remember, I didn't do so much excercise on August 2019, probably this is an outlier: "
   ]
  },
  {
   "cell_type": "code",
   "execution_count": 11,
   "metadata": {},
   "outputs": [
    {
     "data": {
      "text/plain": [
       "start_date_local\n",
       "2020-09-01 18:34:26     0.706667\n",
       "2020-08-29 08:37:35     1.167500\n",
       "2020-08-27 19:34:35     0.722500\n",
       "2020-08-26 19:44:20     0.624167\n",
       "2020-08-24 18:24:38     0.521389\n",
       "2020-08-14 19:31:58    29.265833\n",
       "2020-08-12 17:41:31    14.076111\n",
       "2020-08-05 17:54:40     0.703333\n",
       "2020-08-03 19:39:40     0.752222\n",
       "2020-08-03 18:18:55     0.760833\n",
       "2020-08-03 07:12:11     0.500556\n",
       "2020-08-02 20:47:59     0.536111\n",
       "Name: moving_time, dtype: float64"
      ]
     },
     "execution_count": 11,
     "metadata": {},
     "output_type": "execute_result"
    }
   ],
   "source": [
    "df.set_index('start_date_local')['2020-09-01':'2020-08-01'].moving_time / 3600"
   ]
  },
  {
   "cell_type": "markdown",
   "metadata": {},
   "source": [
    "There are 2 activities of more than 10 hours, definitely these are errors. For that reason, I will filter the orignal dataframe removing activities that last more than 10 hours and plot the same figure: "
   ]
  },
  {
   "cell_type": "code",
   "execution_count": 12,
   "metadata": {},
   "outputs": [
    {
     "data": {
      "image/png": "[encoded data removed]",
      "text/plain": [
       "<Figure size 720x360 with 1 Axes>"
      ]
     },
     "metadata": {
      "needs_background": "light"
     },
     "output_type": "display_data"
    }
   ],
   "source": [
    "df = df[df['moving_time'] <= 36000]\n",
    "df_by_date = group_by_date(df)\n",
    "plot_activities_over_time(df_by_date[df_by_date['start_date_local']>'2019-01-01'])"
   ]
  },
  {
   "cell_type": "markdown",
   "metadata": {},
   "source": [
    "This makes much more sense:\n",
    "* From January 2019 to May 2019 there is an increasing number of activitiees as I was preparing the marathon I run on 19th of May (peak of training)\n",
    "* In summer 2019 I kept doing some activities but with a lower level intensity\n",
    "* From September 2019 to December I was preparing 2 races: one trail running and another one MTB\n",
    "* From January 2020 I started working, then 2 months lockdown in Spain, and then I wanted to come back to activities, but actually I was not very motivated and I stopped"
   ]
  },
  {
   "cell_type": "markdown",
   "metadata": {},
   "source": [
    "# Which is my prefered type of activity? "
   ]
  },
  {
   "cell_type": "markdown",
   "metadata": {
    "slideshow": {
     "slide_type": "fragment"
    }
   },
   "source": [
    "First thing, let's print out what type of activities can we find in this dataset:"
   ]
  },
  {
   "cell_type": "code",
   "execution_count": 13,
   "metadata": {},
   "outputs": [
    {
     "name": "stdout",
     "output_type": "stream",
     "text": [
      "['Run' 'Swim' 'WeightTraining' 'Workout' 'Hike' 'Ride' 'Walk']\n"
     ]
    }
   ],
   "source": [
    "print(df['type'].unique())"
   ]
  },
  {
   "cell_type": "markdown",
   "metadata": {},
   "source": [
    "However, I would like to include one category more. I think running and trail running are very different on terms of effort, duration... For that reason, I will create this new category. I will consider as trail running  every running activty that has an elevation gain higher than 200m. First I print the results as a sanity check"
   ]
  },
  {
   "cell_type": "code",
   "execution_count": 14,
   "metadata": {},
   "outputs": [
    {
     "data": {
      "text/html": [
       "<div>\n",
       "<style scoped>\n",
       "    .dataframe tbody tr th:only-of-type {\n",
       "        vertical-align: middle;\n",
       "    }\n",
       "\n",
       "    .dataframe tbody tr th {\n",
       "        vertical-align: top;\n",
       "    }\n",
       "\n",
       "    .dataframe thead th {\n",
       "        text-align: right;\n",
       "    }\n",
       "</style>\n",
       "<table border=\"1\" class=\"dataframe\">\n",
       "  <thead>\n",
       "    <tr style=\"text-align: right;\">\n",
       "      <th></th>\n",
       "      <th>id</th>\n",
       "      <th>name</th>\n",
       "      <th>distance</th>\n",
       "      <th>moving_time</th>\n",
       "      <th>elapsed_time</th>\n",
       "      <th>total_elevation_gain</th>\n",
       "      <th>type</th>\n",
       "      <th>start_date_local</th>\n",
       "      <th>location_country</th>\n",
       "      <th>achievement_count</th>\n",
       "      <th>kudos_count</th>\n",
       "      <th>comment_count</th>\n",
       "      <th>athlete_count</th>\n",
       "      <th>photo_count</th>\n",
       "      <th>average_speed</th>\n",
       "      <th>max_speed</th>\n",
       "      <th>average_cadence</th>\n",
       "      <th>has_heartrate</th>\n",
       "      <th>average_heartrate</th>\n",
       "      <th>max_heartrate</th>\n",
       "      <th>elev_high</th>\n",
       "      <th>elev_low</th>\n",
       "      <th>pr_count</th>\n",
       "      <th>total_photo_count</th>\n",
       "      <th>suffer_score</th>\n",
       "    </tr>\n",
       "  </thead>\n",
       "  <tbody>\n",
       "    <tr>\n",
       "      <th>75</th>\n",
       "      <td>2914602424</td>\n",
       "      <td>Carrera de noche</td>\n",
       "      <td>7889.5</td>\n",
       "      <td>2712</td>\n",
       "      <td>2715</td>\n",
       "      <td>290.2</td>\n",
       "      <td>Run</td>\n",
       "      <td>2019-12-04 19:10:05</td>\n",
       "      <td>España</td>\n",
       "      <td>0</td>\n",
       "      <td>2</td>\n",
       "      <td>0</td>\n",
       "      <td>1</td>\n",
       "      <td>0</td>\n",
       "      <td>2.909</td>\n",
       "      <td>4.9</td>\n",
       "      <td>82.8</td>\n",
       "      <td>True</td>\n",
       "      <td>143.4</td>\n",
       "      <td>166.0</td>\n",
       "      <td>470.3</td>\n",
       "      <td>382.6</td>\n",
       "      <td>0</td>\n",
       "      <td>0</td>\n",
       "      <td>41.0</td>\n",
       "    </tr>\n",
       "    <tr>\n",
       "      <th>78</th>\n",
       "      <td>2901116642</td>\n",
       "      <td>Carrera de mañana</td>\n",
       "      <td>12754.5</td>\n",
       "      <td>4096</td>\n",
       "      <td>4096</td>\n",
       "      <td>290.1</td>\n",
       "      <td>Run</td>\n",
       "      <td>2019-11-30 10:47:24</td>\n",
       "      <td>España</td>\n",
       "      <td>0</td>\n",
       "      <td>3</td>\n",
       "      <td>0</td>\n",
       "      <td>1</td>\n",
       "      <td>0</td>\n",
       "      <td>3.114</td>\n",
       "      <td>8.4</td>\n",
       "      <td>82.8</td>\n",
       "      <td>True</td>\n",
       "      <td>185.3</td>\n",
       "      <td>205.0</td>\n",
       "      <td>477.1</td>\n",
       "      <td>394.6</td>\n",
       "      <td>0</td>\n",
       "      <td>0</td>\n",
       "      <td>283.0</td>\n",
       "    </tr>\n",
       "    <tr>\n",
       "      <th>89</th>\n",
       "      <td>2864874178</td>\n",
       "      <td>Series day fun day</td>\n",
       "      <td>9936.3</td>\n",
       "      <td>3167</td>\n",
       "      <td>3182</td>\n",
       "      <td>310.9</td>\n",
       "      <td>Run</td>\n",
       "      <td>2019-11-14 18:16:24</td>\n",
       "      <td>España</td>\n",
       "      <td>0</td>\n",
       "      <td>7</td>\n",
       "      <td>0</td>\n",
       "      <td>1</td>\n",
       "      <td>0</td>\n",
       "      <td>3.137</td>\n",
       "      <td>10.4</td>\n",
       "      <td>83.3</td>\n",
       "      <td>True</td>\n",
       "      <td>164.0</td>\n",
       "      <td>189.0</td>\n",
       "      <td>470.1</td>\n",
       "      <td>382.6</td>\n",
       "      <td>0</td>\n",
       "      <td>0</td>\n",
       "      <td>128.0</td>\n",
       "    </tr>\n",
       "    <tr>\n",
       "      <th>94</th>\n",
       "      <td>2854379799</td>\n",
       "      <td>7a subida Penya Migjorn</td>\n",
       "      <td>21394.5</td>\n",
       "      <td>9114</td>\n",
       "      <td>10347</td>\n",
       "      <td>1092.1</td>\n",
       "      <td>Run</td>\n",
       "      <td>2019-11-10 09:01:00</td>\n",
       "      <td>España</td>\n",
       "      <td>7</td>\n",
       "      <td>11</td>\n",
       "      <td>0</td>\n",
       "      <td>5</td>\n",
       "      <td>0</td>\n",
       "      <td>2.347</td>\n",
       "      <td>5.6</td>\n",
       "      <td>79.5</td>\n",
       "      <td>True</td>\n",
       "      <td>170.4</td>\n",
       "      <td>201.0</td>\n",
       "      <td>1179.1</td>\n",
       "      <td>433.8</td>\n",
       "      <td>3</td>\n",
       "      <td>0</td>\n",
       "      <td>433.0</td>\n",
       "    </tr>\n",
       "    <tr>\n",
       "      <th>99</th>\n",
       "      <td>2853875496</td>\n",
       "      <td>Carrera de tarde</td>\n",
       "      <td>8267.5</td>\n",
       "      <td>2888</td>\n",
       "      <td>3205</td>\n",
       "      <td>324.1</td>\n",
       "      <td>Run</td>\n",
       "      <td>2019-10-30 17:25:22</td>\n",
       "      <td>España</td>\n",
       "      <td>2</td>\n",
       "      <td>2</td>\n",
       "      <td>0</td>\n",
       "      <td>1</td>\n",
       "      <td>0</td>\n",
       "      <td>2.863</td>\n",
       "      <td>6.1</td>\n",
       "      <td>82.6</td>\n",
       "      <td>True</td>\n",
       "      <td>157.4</td>\n",
       "      <td>182.0</td>\n",
       "      <td>718.3</td>\n",
       "      <td>449.5</td>\n",
       "      <td>2</td>\n",
       "      <td>0</td>\n",
       "      <td>90.0</td>\n",
       "    </tr>\n",
       "  </tbody>\n",
       "</table>\n",
       "</div>"
      ],
      "text/plain": [
       "            id                      name  distance  moving_time  elapsed_time  \\\n",
       "75  2914602424          Carrera de noche    7889.5         2712          2715   \n",
       "78  2901116642         Carrera de mañana   12754.5         4096          4096   \n",
       "89  2864874178       Series day fun day     9936.3         3167          3182   \n",
       "94  2854379799  7a subida Penya Migjorn    21394.5         9114         10347   \n",
       "99  2853875496          Carrera de tarde    8267.5         2888          3205   \n",
       "\n",
       "    total_elevation_gain type    start_date_local location_country  \\\n",
       "75                 290.2  Run 2019-12-04 19:10:05           España   \n",
       "78                 290.1  Run 2019-11-30 10:47:24           España   \n",
       "89                 310.9  Run 2019-11-14 18:16:24           España   \n",
       "94                1092.1  Run 2019-11-10 09:01:00           España   \n",
       "99                 324.1  Run 2019-10-30 17:25:22           España   \n",
       "\n",
       "    achievement_count  kudos_count  comment_count  athlete_count  photo_count  \\\n",
       "75                  0            2              0              1            0   \n",
       "78                  0            3              0              1            0   \n",
       "89                  0            7              0              1            0   \n",
       "94                  7           11              0              5            0   \n",
       "99                  2            2              0              1            0   \n",
       "\n",
       "    average_speed  max_speed  average_cadence  has_heartrate  \\\n",
       "75          2.909        4.9             82.8           True   \n",
       "78          3.114        8.4             82.8           True   \n",
       "89          3.137       10.4             83.3           True   \n",
       "94          2.347        5.6             79.5           True   \n",
       "99          2.863        6.1             82.6           True   \n",
       "\n",
       "    average_heartrate  max_heartrate  elev_high  elev_low  pr_count  \\\n",
       "75              143.4          166.0      470.3     382.6         0   \n",
       "78              185.3          205.0      477.1     394.6         0   \n",
       "89              164.0          189.0      470.1     382.6         0   \n",
       "94              170.4          201.0     1179.1     433.8         3   \n",
       "99              157.4          182.0      718.3     449.5         2   \n",
       "\n",
       "    total_photo_count  suffer_score  \n",
       "75                  0          41.0  \n",
       "78                  0         283.0  \n",
       "89                  0         128.0  \n",
       "94                  0         433.0  \n",
       "99                  0          90.0  "
      ]
     },
     "execution_count": 14,
     "metadata": {},
     "output_type": "execute_result"
    }
   ],
   "source": [
    "elev_lim = 250\n",
    "df.loc[(df['type']=='Run') & (df['total_elevation_gain']>elev_lim)].head()"
   ]
  },
  {
   "cell_type": "code",
   "execution_count": 15,
   "metadata": {},
   "outputs": [
    {
     "name": "stdout",
     "output_type": "stream",
     "text": [
      "['Run' 'Swim' 'WeightTraining' 'Workout' 'Hike' 'Ride' 'Trail Run' 'Walk']\n"
     ]
    }
   ],
   "source": [
    "df.loc[(df['type']=='Run') & (df['total_elevation_gain']>elev_lim), \"type\"] = \"Trail Run\"\n",
    "print(df[\"type\"].unique())"
   ]
  },
  {
   "cell_type": "markdown",
   "metadata": {},
   "source": [
    "Let's see what is the activity I have more registers"
   ]
  },
  {
   "cell_type": "code",
   "execution_count": 16,
   "metadata": {},
   "outputs": [
    {
     "data": {
      "text/plain": [
       "Run               212\n",
       "Ride               57\n",
       "WeightTraining     40\n",
       "Trail Run          23\n",
       "Hike               11\n",
       "Swim                6\n",
       "Workout             4\n",
       "Walk                3\n",
       "Name: type, dtype: int64"
      ]
     },
     "execution_count": 16,
     "metadata": {},
     "output_type": "execute_result"
    }
   ],
   "source": [
    "agg = df['type'].value_counts().sort_values(ascending = False)\n",
    "agg"
   ]
  },
  {
   "cell_type": "code",
   "execution_count": 17,
   "metadata": {},
   "outputs": [
    {
     "data": {
      "image/png": "[encoded data removed]",
      "text/plain": [
       "<Figure size 864x360 with 1 Axes>"
      ]
     },
     "metadata": {
      "needs_background": "light"
     },
     "output_type": "display_data"
    }
   ],
   "source": [
    "#I will plot the same kind of results in more occasions\n",
    "def plot_value_counts(agg, title, ylabel, color_=None, name='image.png'):\n",
    "    plt.figure(figsize=(12,5))\n",
    "    sns.barplot(x=agg.index, y=agg.values, color=color_)\n",
    "    plt.title(title, fontsize=16)\n",
    "    plt.ylabel(ylabel, fontsize=12)\n",
    "    plt.yticks(fontsize=12)\n",
    "    plt.xticks(fontsize=12)\n",
    "    plt.savefig(FIGURES_PATH + name)\n",
    "    plt.show()\n",
    "\n",
    "plot_value_counts(agg, title='Number of registers by activity', ylabel='Number of registers', name='registers_by_activity.png')"
   ]
  },
  {
   "cell_type": "markdown",
   "metadata": {
    "slideshow": {
     "slide_type": "slide"
    }
   },
   "source": [
    "Without any doubt, running is my prefered activity"
   ]
  },
  {
   "cell_type": "markdown",
   "metadata": {},
   "source": [
    "# Which activity I spend more time on? "
   ]
  },
  {
   "cell_type": "markdown",
   "metadata": {},
   "source": [
    "Let's see now which is the activity I spend more time"
   ]
  },
  {
   "cell_type": "code",
   "execution_count": 18,
   "metadata": {},
   "outputs": [],
   "source": [
    "agg = pd.pivot_table(data = df, index='type',\n",
    "                     aggfunc='sum', values='moving_time').sort_values('moving_time', ascending = False)\n",
    "agg['moving_time'] = agg['moving_time']/3600"
   ]
  },
  {
   "cell_type": "code",
   "execution_count": 19,
   "metadata": {},
   "outputs": [
    {
     "data": {
      "image/png": "[encoded data removed]",
      "text/plain": [
       "<Figure size 864x360 with 1 Axes>"
      ]
     },
     "metadata": {
      "needs_background": "light"
     },
     "output_type": "display_data"
    }
   ],
   "source": [
    "plot_value_counts(agg.iloc[:,0], title='Hours spent by activity', ylabel='Time (hours)', name='time_by_activity.png')"
   ]
  },
  {
   "cell_type": "markdown",
   "metadata": {},
   "source": [
    "The difference between Run and Ride is closer now, makes sense as usually bike activities are longer than running ones: "
   ]
  },
  {
   "cell_type": "code",
   "execution_count": 20,
   "metadata": {},
   "outputs": [
    {
     "data": {
      "text/html": [
       "<div>\n",
       "<style scoped>\n",
       "    .dataframe tbody tr th:only-of-type {\n",
       "        vertical-align: middle;\n",
       "    }\n",
       "\n",
       "    .dataframe tbody tr th {\n",
       "        vertical-align: top;\n",
       "    }\n",
       "\n",
       "    .dataframe thead th {\n",
       "        text-align: right;\n",
       "    }\n",
       "</style>\n",
       "<table border=\"1\" class=\"dataframe\">\n",
       "  <thead>\n",
       "    <tr style=\"text-align: right;\">\n",
       "      <th></th>\n",
       "      <th>moving_time</th>\n",
       "    </tr>\n",
       "    <tr>\n",
       "      <th>type</th>\n",
       "      <th></th>\n",
       "    </tr>\n",
       "  </thead>\n",
       "  <tbody>\n",
       "    <tr>\n",
       "      <th>Ride</th>\n",
       "      <td>6199</td>\n",
       "    </tr>\n",
       "    <tr>\n",
       "      <th>Run</th>\n",
       "      <td>2730</td>\n",
       "    </tr>\n",
       "  </tbody>\n",
       "</table>\n",
       "</div>"
      ],
      "text/plain": [
       "      moving_time\n",
       "type             \n",
       "Ride         6199\n",
       "Run          2730"
      ]
     },
     "execution_count": 20,
     "metadata": {},
     "output_type": "execute_result"
    }
   ],
   "source": [
    "df.loc[(df[\"type\"]=='Run') | (df['type']=='Ride'), [\"type\", 'moving_time']].groupby('type').median()"
   ]
  },
  {
   "cell_type": "code",
   "execution_count": 21,
   "metadata": {},
   "outputs": [
    {
     "data": {
      "image/png": "[encoded data removed]",
      "text/plain": [
       "<Figure size 720x576 with 1 Axes>"
      ]
     },
     "metadata": {
      "needs_background": "light"
     },
     "output_type": "display_data"
    }
   ],
   "source": [
    "plt.figure(figsize=(10,8))\n",
    "plt.hist(df.loc[df[\"type\"]=='Run', 'moving_time'], color='b', bins=50, label='Run')\n",
    "plt.hist(df.loc[df[\"type\"]=='Ride', 'moving_time'], color='g', bins=50, label='Ride')\n",
    "plt.legend()\n",
    "plt.title('Histograms of moving time by activity')\n",
    "plt.savefig(FIGURES_PATH + 'histogram_run_ride.png')\n",
    "plt.show()"
   ]
  },
  {
   "cell_type": "markdown",
   "metadata": {},
   "source": [
    "With this preliminar analysis I am able to demonstrate that running is the activity I have spent more time on, however, the difference is not as big as the number of activities, since Ride activities are longer"
   ]
  },
  {
   "cell_type": "markdown",
   "metadata": {},
   "source": [
    "# Which activity requires a bigger effort?"
   ]
  },
  {
   "cell_type": "markdown",
   "metadata": {},
   "source": [
    "Strava already has a way of measuring the effort, however, I will use the heart rate as a error measure"
   ]
  },
  {
   "cell_type": "markdown",
   "metadata": {},
   "source": [
    "## Average Heart Rate"
   ]
  },
  {
   "cell_type": "code",
   "execution_count": 22,
   "metadata": {},
   "outputs": [
    {
     "data": {
      "text/html": [
       "<div>\n",
       "<style scoped>\n",
       "    .dataframe tbody tr th:only-of-type {\n",
       "        vertical-align: middle;\n",
       "    }\n",
       "\n",
       "    .dataframe tbody tr th {\n",
       "        vertical-align: top;\n",
       "    }\n",
       "\n",
       "    .dataframe thead th {\n",
       "        text-align: right;\n",
       "    }\n",
       "</style>\n",
       "<table border=\"1\" class=\"dataframe\">\n",
       "  <thead>\n",
       "    <tr style=\"text-align: right;\">\n",
       "      <th></th>\n",
       "      <th>average_heartrate</th>\n",
       "    </tr>\n",
       "    <tr>\n",
       "      <th>type</th>\n",
       "      <th></th>\n",
       "    </tr>\n",
       "  </thead>\n",
       "  <tbody>\n",
       "    <tr>\n",
       "      <th>Trail Run</th>\n",
       "      <td>158.90</td>\n",
       "    </tr>\n",
       "    <tr>\n",
       "      <th>Run</th>\n",
       "      <td>153.75</td>\n",
       "    </tr>\n",
       "    <tr>\n",
       "      <th>Ride</th>\n",
       "      <td>140.95</td>\n",
       "    </tr>\n",
       "    <tr>\n",
       "      <th>Hike</th>\n",
       "      <td>106.45</td>\n",
       "    </tr>\n",
       "    <tr>\n",
       "      <th>Workout</th>\n",
       "      <td>95.65</td>\n",
       "    </tr>\n",
       "    <tr>\n",
       "      <th>WeightTraining</th>\n",
       "      <td>95.60</td>\n",
       "    </tr>\n",
       "  </tbody>\n",
       "</table>\n",
       "</div>"
      ],
      "text/plain": [
       "                average_heartrate\n",
       "type                             \n",
       "Trail Run                  158.90\n",
       "Run                        153.75\n",
       "Ride                       140.95\n",
       "Hike                       106.45\n",
       "Workout                     95.65\n",
       "WeightTraining              95.60"
      ]
     },
     "execution_count": 22,
     "metadata": {},
     "output_type": "execute_result"
    }
   ],
   "source": [
    "agg = pd.pivot_table(df, values = 'average_heartrate',\n",
    "                      index = 'type', aggfunc='median').sort_values('average_heartrate', ascending = False)\n",
    "agg"
   ]
  },
  {
   "cell_type": "markdown",
   "metadata": {
    "slideshow": {
     "slide_type": "slide"
    }
   },
   "source": [
    "It can seem a bit controversial the term: \"Median Average Heart Rate\". Strava provides two metrics regarding the heart rate: Average and Max. In this section I am calculating the Median of the Aveage heart rates by type of activity"
   ]
  },
  {
   "cell_type": "code",
   "execution_count": 23,
   "metadata": {},
   "outputs": [
    {
     "data": {
      "image/png": "[encoded data removed]",
      "text/plain": [
       "<Figure size 864x360 with 1 Axes>"
      ]
     },
     "metadata": {
      "needs_background": "light"
     },
     "output_type": "display_data"
    }
   ],
   "source": [
    "plot_value_counts(agg.iloc[:,0], title='Median Avearage Heart Rate by Activity',\n",
    "                  ylabel='Average Heart Rate', color_='r',\n",
    "                  name='median_average_heartrate.png')"
   ]
  },
  {
   "cell_type": "markdown",
   "metadata": {
    "slideshow": {
     "slide_type": "slide"
    }
   },
   "source": [
    "Is the first time that 'Run' is not the **star** of the analysis, apparently Trail Run is a harder sport. I wouldn't expect that, as trail run is general, a longer activity, and it is common to walk when the slop is high... Interesting!\n",
    "\n",
    "In order to indtroduce something new in the analysis, I will also create a box-plot on the "
   ]
  },
  {
   "cell_type": "code",
   "execution_count": 24,
   "metadata": {},
   "outputs": [
    {
     "data": {
      "image/png": "[encoded data removed]",
      "text/plain": [
       "<Figure size 720x576 with 1 Axes>"
      ]
     },
     "metadata": {
      "needs_background": "light"
     },
     "output_type": "display_data"
    }
   ],
   "source": [
    "def plot_box_plot(df, cat_var, num_var, title, name):\n",
    "    data = df.copy()\n",
    "    plt.figure(figsize=(10,8))\n",
    "    sns.boxplot(x=data[cat_var], y=data[num_var])\n",
    "    plt.title(title)\n",
    "    plt.savefig(FIGURES_PATH + name)\n",
    "    plt.show()\n",
    "\n",
    "plot_box_plot(df, 'type', 'average_heartrate', 'Boxplot of average heartrate', name='median_average_heartrate_boxplot.png')"
   ]
  },
  {
   "cell_type": "markdown",
   "metadata": {},
   "source": [
    "Results make sense, we can identify two groups:\n",
    "\n",
    "+ **Hard activities**: Run, Ride, Trail Run\n",
    "+ **Easy activities**: WeithTraining, Workout, Hike"
   ]
  },
  {
   "cell_type": "markdown",
   "metadata": {},
   "source": [
    "## Max Heart Rate"
   ]
  },
  {
   "cell_type": "code",
   "execution_count": 25,
   "metadata": {},
   "outputs": [
    {
     "data": {
      "text/html": [
       "<div>\n",
       "<style scoped>\n",
       "    .dataframe tbody tr th:only-of-type {\n",
       "        vertical-align: middle;\n",
       "    }\n",
       "\n",
       "    .dataframe tbody tr th {\n",
       "        vertical-align: top;\n",
       "    }\n",
       "\n",
       "    .dataframe thead th {\n",
       "        text-align: right;\n",
       "    }\n",
       "</style>\n",
       "<table border=\"1\" class=\"dataframe\">\n",
       "  <thead>\n",
       "    <tr style=\"text-align: right;\">\n",
       "      <th></th>\n",
       "      <th>max_heartrate</th>\n",
       "    </tr>\n",
       "    <tr>\n",
       "      <th>type</th>\n",
       "      <th></th>\n",
       "    </tr>\n",
       "  </thead>\n",
       "  <tbody>\n",
       "    <tr>\n",
       "      <th>Trail Run</th>\n",
       "      <td>187.0</td>\n",
       "    </tr>\n",
       "    <tr>\n",
       "      <th>Run</th>\n",
       "      <td>176.5</td>\n",
       "    </tr>\n",
       "    <tr>\n",
       "      <th>Ride</th>\n",
       "      <td>172.5</td>\n",
       "    </tr>\n",
       "    <tr>\n",
       "      <th>WeightTraining</th>\n",
       "      <td>132.0</td>\n",
       "    </tr>\n",
       "    <tr>\n",
       "      <th>Workout</th>\n",
       "      <td>128.5</td>\n",
       "    </tr>\n",
       "    <tr>\n",
       "      <th>Hike</th>\n",
       "      <td>128.0</td>\n",
       "    </tr>\n",
       "  </tbody>\n",
       "</table>\n",
       "</div>"
      ],
      "text/plain": [
       "                max_heartrate\n",
       "type                         \n",
       "Trail Run               187.0\n",
       "Run                     176.5\n",
       "Ride                    172.5\n",
       "WeightTraining          132.0\n",
       "Workout                 128.5\n",
       "Hike                    128.0"
      ]
     },
     "execution_count": 25,
     "metadata": {},
     "output_type": "execute_result"
    }
   ],
   "source": [
    "agg = pd.pivot_table(df, values = 'max_heartrate',\n",
    "                      index = 'type', aggfunc='median').sort_values('max_heartrate', ascending = False)\n",
    "agg"
   ]
  },
  {
   "cell_type": "code",
   "execution_count": 26,
   "metadata": {},
   "outputs": [
    {
     "data": {
      "image/png": "[encoded data removed]",
      "text/plain": [
       "<Figure size 864x360 with 1 Axes>"
      ]
     },
     "metadata": {
      "needs_background": "light"
     },
     "output_type": "display_data"
    }
   ],
   "source": [
    "plot_value_counts(agg.iloc[:,0], title='Median Max Heart Rate by Activity',\n",
    "                  ylabel='Max Heart Rate', color_='r',\n",
    "                  name='median_max_heartrate.png')"
   ]
  },
  {
   "cell_type": "code",
   "execution_count": 27,
   "metadata": {},
   "outputs": [
    {
     "data": {
      "image/png": "[encoded data removed]",
      "text/plain": [
       "<Figure size 720x576 with 1 Axes>"
      ]
     },
     "metadata": {
      "needs_background": "light"
     },
     "output_type": "display_data"
    }
   ],
   "source": [
    "plot_box_plot(df, 'type', 'max_heartrate', 'Distribution of heartrate', 'median_max_heartrate.png')"
   ]
  },
  {
   "cell_type": "markdown",
   "metadata": {},
   "source": [
    "In this case, the difference it is not as clear as with the average heartrate. However, if we look at the bar graph in the boxplot, we can still differenciate those two groups. There can be seen easy that there exist two different levels for the median max heart rate"
   ]
  },
  {
   "cell_type": "markdown",
   "metadata": {},
   "source": [
    "# Next steps\n",
    "\n",
    "Next steps will be to create a Regression Model to predict moving time. Actually, what I want to predict it is not the moving time, is what will be the finishing time for a given running race. For that, the input parameters should be: \n",
    "\n",
    "* Distance\n",
    "* Elevation\n",
    "* Current shape of the athlete (my self now, but maybe, in the future, I can generalize the model...)\n",
    "\n",
    "Current shape of the athlete is the most tricky part, we will think how to compute that later\n"
   ]
  }
 ],
 "metadata": {
  "kernelspec": {
   "display_name": "Python 3",
   "language": "python",
   "name": "python3"
  },
  "language_info": {
   "codemirror_mode": {
    "name": "ipython",
    "version": 3
   },
   "file_extension": ".py",
   "mimetype": "text/x-python",
   "name": "python",
   "nbconvert_exporter": "python",
   "pygments_lexer": "ipython3",
   "version": "3.7.4"
  },
  "varInspector": {
   "cols": {
    "lenName": 16,
    "lenType": 16,
    "lenVar": 40
   },
   "kernels_config": {
    "python": {
     "delete_cmd_postfix": "",
     "delete_cmd_prefix": "del ",
     "library": "var_list.py",
     "varRefreshCmd": "print(var_dic_list())"
    },
    "r": {
     "delete_cmd_postfix": ") ",
     "delete_cmd_prefix": "rm(",
     "library": "var_list.r",
     "varRefreshCmd": "cat(var_dic_list()) "
    }
   },
   "types_to_exclude": [
    "module",
    "function",
    "builtin_function_or_method",
    "instance",
    "_Feature"
   ],
   "window_display": false
  }
 },
 "nbformat": 4,
 "nbformat_minor": 2
}
